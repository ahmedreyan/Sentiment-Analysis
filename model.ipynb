{
 "cells": [
  {
   "cell_type": "code",
   "execution_count": 2,
   "id": "0123ace9-b8e4-4c93-a7b1-c7cf94bb05d7",
   "metadata": {},
   "outputs": [],
   "source": [
    "from sklearn.feature_extraction.text import TfidfVectorizer\n",
    "import pandas as pd\n",
    "from sklearn.model_selection import train_test_split\n",
    "from sklearn.feature_extraction.text import TfidfVectorizer\n",
    "from sklearn.linear_model import LogisticRegression\n",
    "from sklearn.metrics import accuracy_score, precision_score, recall_score, f1_score, classification_report"
   ]
  },
  {
   "cell_type": "code",
   "execution_count": 7,
   "id": "865299e8-c863-499a-bb17-44fc1d4ddeb8",
   "metadata": {},
   "outputs": [],
   "source": [
    "# Load the dataset\n",
    "data = pd.read_csv(\"booking_reviews copy.csv\")\n"
   ]
  },
  {
   "cell_type": "code",
   "execution_count": 8,
   "id": "62a478a8-8651-4481-bb95-1cb4cdd18f86",
   "metadata": {},
   "outputs": [
    {
     "data": {
      "text/html": [
       "<div>\n",
       "<style scoped>\n",
       "    .dataframe tbody tr th:only-of-type {\n",
       "        vertical-align: middle;\n",
       "    }\n",
       "\n",
       "    .dataframe tbody tr th {\n",
       "        vertical-align: top;\n",
       "    }\n",
       "\n",
       "    .dataframe thead th {\n",
       "        text-align: right;\n",
       "    }\n",
       "</style>\n",
       "<table border=\"1\" class=\"dataframe\">\n",
       "  <thead>\n",
       "    <tr style=\"text-align: right;\">\n",
       "      <th></th>\n",
       "      <th>review_title</th>\n",
       "      <th>reviewed_at</th>\n",
       "      <th>reviewed_by</th>\n",
       "      <th>images</th>\n",
       "      <th>crawled_at</th>\n",
       "      <th>url</th>\n",
       "      <th>hotel_name</th>\n",
       "      <th>hotel_url</th>\n",
       "      <th>avg_rating</th>\n",
       "      <th>nationality</th>\n",
       "      <th>rating</th>\n",
       "      <th>review_text</th>\n",
       "      <th>raw_review_text</th>\n",
       "      <th>tags</th>\n",
       "      <th>meta</th>\n",
       "    </tr>\n",
       "  </thead>\n",
       "  <tbody>\n",
       "    <tr>\n",
       "      <th>0</th>\n",
       "      <td>Exceptional</td>\n",
       "      <td>11 July 2021</td>\n",
       "      <td>Kyrylo</td>\n",
       "      <td>NaN</td>\n",
       "      <td>07/20/2021, 01:09:27</td>\n",
       "      <td>https://www.booking.com/reviews/be/hotel/villa...</td>\n",
       "      <td>Villa Pura Vida</td>\n",
       "      <td>https://www.booking.com/hotel/be/villa-pura-vi...</td>\n",
       "      <td>9.7</td>\n",
       "      <td>Poland</td>\n",
       "      <td>10.0</td>\n",
       "      <td>Everything was perfect! Quite, cozy place to r...</td>\n",
       "      <td>&lt;p class=\"review_pos \"&gt;&lt;svg aria-label=\"Positi...</td>\n",
       "      <td>Business trip~Solo traveller~Junior Suite~Stay...</td>\n",
       "      <td>{'language': 'en-gb', 'source': 'https://www.b...</td>\n",
       "    </tr>\n",
       "    <tr>\n",
       "      <th>1</th>\n",
       "      <td>I highly recommend this b&amp;b! We enjoyed it a lot!</td>\n",
       "      <td>24 November 2019</td>\n",
       "      <td>Dimitri</td>\n",
       "      <td>NaN</td>\n",
       "      <td>07/20/2021, 01:09:27</td>\n",
       "      <td>https://www.booking.com/reviews/be/hotel/villa...</td>\n",
       "      <td>Villa Pura Vida</td>\n",
       "      <td>https://www.booking.com/hotel/be/villa-pura-vi...</td>\n",
       "      <td>9.7</td>\n",
       "      <td>Belgium</td>\n",
       "      <td>9.0</td>\n",
       "      <td>Very friendly host and perfect breakfast!</td>\n",
       "      <td>&lt;p class=\"review_pos \"&gt;&lt;svg aria-label=\"Positi...</td>\n",
       "      <td>Leisure trip~Couple~Deluxe Suite~Stayed 1 nigh...</td>\n",
       "      <td>{'language': 'en-gb', 'source': 'https://www.b...</td>\n",
       "    </tr>\n",
       "    <tr>\n",
       "      <th>2</th>\n",
       "      <td>Exceptional</td>\n",
       "      <td>3 January 2020</td>\n",
       "      <td>Virginia</td>\n",
       "      <td>NaN</td>\n",
       "      <td>07/20/2021, 01:09:27</td>\n",
       "      <td>https://www.booking.com/reviews/be/hotel/hydro...</td>\n",
       "      <td>Hydro Palace Apartment</td>\n",
       "      <td>https://www.booking.com/hotel/be/hydro-palace....</td>\n",
       "      <td>9.2</td>\n",
       "      <td>United Kingdom</td>\n",
       "      <td>10.0</td>\n",
       "      <td>It was just what we wanted for a week by the b...</td>\n",
       "      <td>&lt;p class=\"review_neg \"&gt;&lt;svg aria-label=\"Negati...</td>\n",
       "      <td>Leisure trip~Couple~Apartment with Sea View~St...</td>\n",
       "      <td>{'language': 'en-gb', 'source': 'https://www.b...</td>\n",
       "    </tr>\n",
       "    <tr>\n",
       "      <th>3</th>\n",
       "      <td>My stay in the house was a experiencing bliss ...</td>\n",
       "      <td>8 September 2019</td>\n",
       "      <td>Kannan</td>\n",
       "      <td>NaN</td>\n",
       "      <td>07/20/2021, 01:09:28</td>\n",
       "      <td>https://www.booking.com/reviews/be/hotel/villa...</td>\n",
       "      <td>Villa Pura Vida</td>\n",
       "      <td>https://www.booking.com/hotel/be/villa-pura-vi...</td>\n",
       "      <td>9.7</td>\n",
       "      <td>Netherlands</td>\n",
       "      <td>10.0</td>\n",
       "      <td>My stay in the house was a experiencing bliss ...</td>\n",
       "      <td>&lt;p class=\"review_pos \"&gt;&lt;svg aria-label=\"Positi...</td>\n",
       "      <td>Business trip~Solo traveller~Junior Suite~Stay...</td>\n",
       "      <td>{'language': 'en-gb', 'source': 'https://www.b...</td>\n",
       "    </tr>\n",
       "    <tr>\n",
       "      <th>4</th>\n",
       "      <td>One bedroom apartment with wonderful view and ...</td>\n",
       "      <td>23 June 2019</td>\n",
       "      <td>Sue</td>\n",
       "      <td>https://cf.bstatic.com/xdata/images/xphoto/squ...</td>\n",
       "      <td>07/20/2021, 01:09:28</td>\n",
       "      <td>https://www.booking.com/reviews/be/hotel/hydro...</td>\n",
       "      <td>Hydro Palace Apartment</td>\n",
       "      <td>https://www.booking.com/hotel/be/hydro-palace....</td>\n",
       "      <td>9.2</td>\n",
       "      <td>South Africa</td>\n",
       "      <td>9.2</td>\n",
       "      <td>The building itself has a very musty smell in ...</td>\n",
       "      <td>&lt;p class=\"review_neg \"&gt;&lt;svg aria-label=\"Negati...</td>\n",
       "      <td>Leisure trip~People with friends~Apartment wit...</td>\n",
       "      <td>{'language': 'en-gb', 'source': 'https://www.b...</td>\n",
       "    </tr>\n",
       "  </tbody>\n",
       "</table>\n",
       "</div>"
      ],
      "text/plain": [
       "                                        review_title       reviewed_at  \\\n",
       "0                                        Exceptional      11 July 2021   \n",
       "1  I highly recommend this b&b! We enjoyed it a lot!  24 November 2019   \n",
       "2                                        Exceptional    3 January 2020   \n",
       "3  My stay in the house was a experiencing bliss ...  8 September 2019   \n",
       "4  One bedroom apartment with wonderful view and ...      23 June 2019   \n",
       "\n",
       "  reviewed_by                                             images  \\\n",
       "0      Kyrylo                                                NaN   \n",
       "1     Dimitri                                                NaN   \n",
       "2    Virginia                                                NaN   \n",
       "3      Kannan                                                NaN   \n",
       "4         Sue  https://cf.bstatic.com/xdata/images/xphoto/squ...   \n",
       "\n",
       "             crawled_at                                                url  \\\n",
       "0  07/20/2021, 01:09:27  https://www.booking.com/reviews/be/hotel/villa...   \n",
       "1  07/20/2021, 01:09:27  https://www.booking.com/reviews/be/hotel/villa...   \n",
       "2  07/20/2021, 01:09:27  https://www.booking.com/reviews/be/hotel/hydro...   \n",
       "3  07/20/2021, 01:09:28  https://www.booking.com/reviews/be/hotel/villa...   \n",
       "4  07/20/2021, 01:09:28  https://www.booking.com/reviews/be/hotel/hydro...   \n",
       "\n",
       "               hotel_name                                          hotel_url  \\\n",
       "0         Villa Pura Vida  https://www.booking.com/hotel/be/villa-pura-vi...   \n",
       "1         Villa Pura Vida  https://www.booking.com/hotel/be/villa-pura-vi...   \n",
       "2  Hydro Palace Apartment  https://www.booking.com/hotel/be/hydro-palace....   \n",
       "3         Villa Pura Vida  https://www.booking.com/hotel/be/villa-pura-vi...   \n",
       "4  Hydro Palace Apartment  https://www.booking.com/hotel/be/hydro-palace....   \n",
       "\n",
       "   avg_rating     nationality  rating  \\\n",
       "0         9.7          Poland    10.0   \n",
       "1         9.7         Belgium     9.0   \n",
       "2         9.2  United Kingdom    10.0   \n",
       "3         9.7     Netherlands    10.0   \n",
       "4         9.2    South Africa     9.2   \n",
       "\n",
       "                                         review_text  \\\n",
       "0  Everything was perfect! Quite, cozy place to r...   \n",
       "1          Very friendly host and perfect breakfast!   \n",
       "2  It was just what we wanted for a week by the b...   \n",
       "3  My stay in the house was a experiencing bliss ...   \n",
       "4  The building itself has a very musty smell in ...   \n",
       "\n",
       "                                     raw_review_text  \\\n",
       "0  <p class=\"review_pos \"><svg aria-label=\"Positi...   \n",
       "1  <p class=\"review_pos \"><svg aria-label=\"Positi...   \n",
       "2  <p class=\"review_neg \"><svg aria-label=\"Negati...   \n",
       "3  <p class=\"review_pos \"><svg aria-label=\"Positi...   \n",
       "4  <p class=\"review_neg \"><svg aria-label=\"Negati...   \n",
       "\n",
       "                                                tags  \\\n",
       "0  Business trip~Solo traveller~Junior Suite~Stay...   \n",
       "1  Leisure trip~Couple~Deluxe Suite~Stayed 1 nigh...   \n",
       "2  Leisure trip~Couple~Apartment with Sea View~St...   \n",
       "3  Business trip~Solo traveller~Junior Suite~Stay...   \n",
       "4  Leisure trip~People with friends~Apartment wit...   \n",
       "\n",
       "                                                meta  \n",
       "0  {'language': 'en-gb', 'source': 'https://www.b...  \n",
       "1  {'language': 'en-gb', 'source': 'https://www.b...  \n",
       "2  {'language': 'en-gb', 'source': 'https://www.b...  \n",
       "3  {'language': 'en-gb', 'source': 'https://www.b...  \n",
       "4  {'language': 'en-gb', 'source': 'https://www.b...  "
      ]
     },
     "execution_count": 8,
     "metadata": {},
     "output_type": "execute_result"
    }
   ],
   "source": [
    "# Display the first few rows of the dataset\n",
    "data.head()\n"
   ]
  },
  {
   "cell_type": "code",
   "execution_count": 6,
   "id": "f1682fb4-24ef-45b8-8fde-5ac656eea234",
   "metadata": {},
   "outputs": [],
   "source": [
    "import pandas as pd\n",
    "\n",
    "# Load the dataset\n",
    "data = pd.read_csv(\"booking_reviews copy.csv\")\n",
    "\n",
    "# Display the first few rows of the dataset to verify it's loaded correctly\n",
    "data.head()\n",
    "\n",
    "# Preprocess the text data\n",
    "def preprocess_text(text):\n",
    "    # Your preprocessing steps here\n",
    "    processed_text = text  # Placeholder, replace with actual preprocessing steps\n",
    "    return processed_text\n",
    "\n"
   ]
  },
  {
   "cell_type": "code",
   "execution_count": 8,
   "id": "e846a1f8-a957-4d4d-a2a3-2b80d44bd811",
   "metadata": {},
   "outputs": [
    {
     "name": "stdout",
     "output_type": "stream",
     "text": [
      "                                              review       reviewed_at  \\\n",
      "0                                        Exceptional      11 July 2021   \n",
      "1  I highly recommend this b&b! We enjoyed it a lot!  24 November 2019   \n",
      "2                                        Exceptional    3 January 2020   \n",
      "3  My stay in the house was a experiencing bliss ...  8 September 2019   \n",
      "4  One bedroom apartment with wonderful view and ...      23 June 2019   \n",
      "\n",
      "  reviewed_by                                             images  \\\n",
      "0      Kyrylo                                                NaN   \n",
      "1     Dimitri                                                NaN   \n",
      "2    Virginia                                                NaN   \n",
      "3      Kannan                                                NaN   \n",
      "4         Sue  https://cf.bstatic.com/xdata/images/xphoto/squ...   \n",
      "\n",
      "             crawled_at                                                url  \\\n",
      "0  07/20/2021, 01:09:27  https://www.booking.com/reviews/be/hotel/villa...   \n",
      "1  07/20/2021, 01:09:27  https://www.booking.com/reviews/be/hotel/villa...   \n",
      "2  07/20/2021, 01:09:27  https://www.booking.com/reviews/be/hotel/hydro...   \n",
      "3  07/20/2021, 01:09:28  https://www.booking.com/reviews/be/hotel/villa...   \n",
      "4  07/20/2021, 01:09:28  https://www.booking.com/reviews/be/hotel/hydro...   \n",
      "\n",
      "               hotel_name                                          hotel_url  \\\n",
      "0         Villa Pura Vida  https://www.booking.com/hotel/be/villa-pura-vi...   \n",
      "1         Villa Pura Vida  https://www.booking.com/hotel/be/villa-pura-vi...   \n",
      "2  Hydro Palace Apartment  https://www.booking.com/hotel/be/hydro-palace....   \n",
      "3         Villa Pura Vida  https://www.booking.com/hotel/be/villa-pura-vi...   \n",
      "4  Hydro Palace Apartment  https://www.booking.com/hotel/be/hydro-palace....   \n",
      "\n",
      "   avg_rating     nationality  rating  \\\n",
      "0         9.7          Poland    10.0   \n",
      "1         9.7         Belgium     9.0   \n",
      "2         9.2  United Kingdom    10.0   \n",
      "3         9.7     Netherlands    10.0   \n",
      "4         9.2    South Africa     9.2   \n",
      "\n",
      "                                         review_text  \\\n",
      "0  Everything was perfect! Quite, cozy place to r...   \n",
      "1          Very friendly host and perfect breakfast!   \n",
      "2  It was just what we wanted for a week by the b...   \n",
      "3  My stay in the house was a experiencing bliss ...   \n",
      "4  The building itself has a very musty smell in ...   \n",
      "\n",
      "                                     raw_review_text  \\\n",
      "0  <p class=\"review_pos \"><svg aria-label=\"Positi...   \n",
      "1  <p class=\"review_pos \"><svg aria-label=\"Positi...   \n",
      "2  <p class=\"review_neg \"><svg aria-label=\"Negati...   \n",
      "3  <p class=\"review_pos \"><svg aria-label=\"Positi...   \n",
      "4  <p class=\"review_neg \"><svg aria-label=\"Negati...   \n",
      "\n",
      "                                                tags  \\\n",
      "0  Business trip~Solo traveller~Junior Suite~Stay...   \n",
      "1  Leisure trip~Couple~Deluxe Suite~Stayed 1 nigh...   \n",
      "2  Leisure trip~Couple~Apartment with Sea View~St...   \n",
      "3  Business trip~Solo traveller~Junior Suite~Stay...   \n",
      "4  Leisure trip~People with friends~Apartment wit...   \n",
      "\n",
      "                                                meta  \n",
      "0  {'language': 'en-gb', 'source': 'https://www.b...  \n",
      "1  {'language': 'en-gb', 'source': 'https://www.b...  \n",
      "2  {'language': 'en-gb', 'source': 'https://www.b...  \n",
      "3  {'language': 'en-gb', 'source': 'https://www.b...  \n",
      "4  {'language': 'en-gb', 'source': 'https://www.b...  \n",
      "                                         review_text  \\\n",
      "0  Everything was perfect! Quite, cozy place to r...   \n",
      "1          Very friendly host and perfect breakfast!   \n",
      "2  It was just what we wanted for a week by the b...   \n",
      "3  My stay in the house was a experiencing bliss ...   \n",
      "4  The building itself has a very musty smell in ...   \n",
      "\n",
      "                                    processed_review  \n",
      "0  Everything was perfect! Quite, cozy place to r...  \n",
      "1          Very friendly host and perfect breakfast!  \n",
      "2  It was just what we wanted for a week by the b...  \n",
      "3  My stay in the house was a experiencing bliss ...  \n",
      "4  The building itself has a very musty smell in ...  \n"
     ]
    }
   ],
   "source": [
    "import pandas as pd\n",
    "\n",
    "# Load the dataset\n",
    "data = pd.read_csv(\"booking_reviews copy.csv\")\n",
    "\n",
    "# Display the first few rows of the dataset to verify it's loaded correctly\n",
    "print(data.head())\n",
    "\n",
    "# Preprocess the text data\n",
    "def preprocess_text(text):\n",
    "    # Your preprocessing steps here\n",
    "    processed_text = text  # Placeholder, replace with actual preprocessing steps\n",
    "    return processed_text\n",
    "\n",
    "# Apply preprocessing to the 'review_text' column\n",
    "data['processed_review'] = data['review_text'].apply(preprocess_text)\n",
    "\n",
    "# Display the first few rows of the dataset with the processed reviews\n",
    "print(data[['review_text', 'processed_review']].head())\n",
    "\n"
   ]
  },
  {
   "cell_type": "code",
   "execution_count": 9,
   "id": "cbcab671-9121-4343-b03c-0dfff542f24f",
   "metadata": {},
   "outputs": [
    {
     "name": "stdout",
     "output_type": "stream",
     "text": [
      "Shape of TF-IDF matrix: (26386, 15383)\n"
     ]
    }
   ],
   "source": [
    "from sklearn.feature_extraction.text import TfidfVectorizer\n",
    "\n",
    "# Initialize the TF-IDF vectorizer\n",
    "tfidf_vectorizer = TfidfVectorizer()\n",
    "\n",
    "# Fit and transform the preprocessed text reviews\n",
    "tfidf_features = tfidf_vectorizer.fit_transform(data['processed_review'])\n",
    "\n",
    "# Print the shape of the TF-IDF matrix\n",
    "print(\"Shape of TF-IDF matrix:\", tfidf_features.shape)\n"
   ]
  },
  {
   "cell_type": "code",
   "execution_count": 15,
   "id": "08981608-4071-4e7f-89c5-b1e2e52ce8be",
   "metadata": {
    "scrolled": true
   },
   "outputs": [
    {
     "name": "stdout",
     "output_type": "stream",
     "text": [
      "sentiment\n",
      "positive    25517\n",
      "neutral       845\n",
      "negative       24\n",
      "Name: count, dtype: int64\n"
     ]
    }
   ],
   "source": [
    "import numpy as np\n",
    "\n",
    "# Define thresholds for sentiment labels based on average rating\n",
    "positive_threshold = 7  # Ratings above 7 are positive\n",
    "negative_threshold = 4  # Ratings below 4 are negative\n",
    "\n",
    "# Create sentiment labels based on average rating\n",
    "data['sentiment'] = np.where(data['avg_rating'] >= positive_threshold, 'positive',\n",
    "                              np.where(data['avg_rating'] < negative_threshold, 'negative', 'neutral'))\n",
    "\n",
    "# Display the counts of each sentiment label\n",
    "print(data['sentiment'].value_counts())\n",
    "\n"
   ]
  },
  {
   "cell_type": "code",
   "execution_count": 16,
   "id": "18e1e63d-7ce0-4a4f-ba8b-3c87315ec41c",
   "metadata": {},
   "outputs": [
    {
     "data": {
      "text/html": [
       "<style>#sk-container-id-1 {color: black;}#sk-container-id-1 pre{padding: 0;}#sk-container-id-1 div.sk-toggleable {background-color: white;}#sk-container-id-1 label.sk-toggleable__label {cursor: pointer;display: block;width: 100%;margin-bottom: 0;padding: 0.3em;box-sizing: border-box;text-align: center;}#sk-container-id-1 label.sk-toggleable__label-arrow:before {content: \"▸\";float: left;margin-right: 0.25em;color: #696969;}#sk-container-id-1 label.sk-toggleable__label-arrow:hover:before {color: black;}#sk-container-id-1 div.sk-estimator:hover label.sk-toggleable__label-arrow:before {color: black;}#sk-container-id-1 div.sk-toggleable__content {max-height: 0;max-width: 0;overflow: hidden;text-align: left;background-color: #f0f8ff;}#sk-container-id-1 div.sk-toggleable__content pre {margin: 0.2em;color: black;border-radius: 0.25em;background-color: #f0f8ff;}#sk-container-id-1 input.sk-toggleable__control:checked~div.sk-toggleable__content {max-height: 200px;max-width: 100%;overflow: auto;}#sk-container-id-1 input.sk-toggleable__control:checked~label.sk-toggleable__label-arrow:before {content: \"▾\";}#sk-container-id-1 div.sk-estimator input.sk-toggleable__control:checked~label.sk-toggleable__label {background-color: #d4ebff;}#sk-container-id-1 div.sk-label input.sk-toggleable__control:checked~label.sk-toggleable__label {background-color: #d4ebff;}#sk-container-id-1 input.sk-hidden--visually {border: 0;clip: rect(1px 1px 1px 1px);clip: rect(1px, 1px, 1px, 1px);height: 1px;margin: -1px;overflow: hidden;padding: 0;position: absolute;width: 1px;}#sk-container-id-1 div.sk-estimator {font-family: monospace;background-color: #f0f8ff;border: 1px dotted black;border-radius: 0.25em;box-sizing: border-box;margin-bottom: 0.5em;}#sk-container-id-1 div.sk-estimator:hover {background-color: #d4ebff;}#sk-container-id-1 div.sk-parallel-item::after {content: \"\";width: 100%;border-bottom: 1px solid gray;flex-grow: 1;}#sk-container-id-1 div.sk-label:hover label.sk-toggleable__label {background-color: #d4ebff;}#sk-container-id-1 div.sk-serial::before {content: \"\";position: absolute;border-left: 1px solid gray;box-sizing: border-box;top: 0;bottom: 0;left: 50%;z-index: 0;}#sk-container-id-1 div.sk-serial {display: flex;flex-direction: column;align-items: center;background-color: white;padding-right: 0.2em;padding-left: 0.2em;position: relative;}#sk-container-id-1 div.sk-item {position: relative;z-index: 1;}#sk-container-id-1 div.sk-parallel {display: flex;align-items: stretch;justify-content: center;background-color: white;position: relative;}#sk-container-id-1 div.sk-item::before, #sk-container-id-1 div.sk-parallel-item::before {content: \"\";position: absolute;border-left: 1px solid gray;box-sizing: border-box;top: 0;bottom: 0;left: 50%;z-index: -1;}#sk-container-id-1 div.sk-parallel-item {display: flex;flex-direction: column;z-index: 1;position: relative;background-color: white;}#sk-container-id-1 div.sk-parallel-item:first-child::after {align-self: flex-end;width: 50%;}#sk-container-id-1 div.sk-parallel-item:last-child::after {align-self: flex-start;width: 50%;}#sk-container-id-1 div.sk-parallel-item:only-child::after {width: 0;}#sk-container-id-1 div.sk-dashed-wrapped {border: 1px dashed gray;margin: 0 0.4em 0.5em 0.4em;box-sizing: border-box;padding-bottom: 0.4em;background-color: white;}#sk-container-id-1 div.sk-label label {font-family: monospace;font-weight: bold;display: inline-block;line-height: 1.2em;}#sk-container-id-1 div.sk-label-container {text-align: center;}#sk-container-id-1 div.sk-container {/* jupyter's `normalize.less` sets `[hidden] { display: none; }` but bootstrap.min.css set `[hidden] { display: none !important; }` so we also need the `!important` here to be able to override the default hidden behavior on the sphinx rendered scikit-learn.org. See: https://github.com/scikit-learn/scikit-learn/issues/21755 */display: inline-block !important;position: relative;}#sk-container-id-1 div.sk-text-repr-fallback {display: none;}</style><div id=\"sk-container-id-1\" class=\"sk-top-container\"><div class=\"sk-text-repr-fallback\"><pre>LogisticRegression()</pre><b>In a Jupyter environment, please rerun this cell to show the HTML representation or trust the notebook. <br />On GitHub, the HTML representation is unable to render, please try loading this page with nbviewer.org.</b></div><div class=\"sk-container\" hidden><div class=\"sk-item\"><div class=\"sk-estimator sk-toggleable\"><input class=\"sk-toggleable__control sk-hidden--visually\" id=\"sk-estimator-id-1\" type=\"checkbox\" checked><label for=\"sk-estimator-id-1\" class=\"sk-toggleable__label sk-toggleable__label-arrow\">LogisticRegression</label><div class=\"sk-toggleable__content\"><pre>LogisticRegression()</pre></div></div></div></div></div>"
      ],
      "text/plain": [
       "LogisticRegression()"
      ]
     },
     "execution_count": 16,
     "metadata": {},
     "output_type": "execute_result"
    }
   ],
   "source": [
    "from sklearn.model_selection import train_test_split\n",
    "from sklearn.linear_model import LogisticRegression\n",
    "\n",
    "# Split the data into training and testing sets\n",
    "X_train, X_test, y_train, y_test = train_test_split(tfidf_features, data['sentiment'], test_size=0.2, random_state=42)\n",
    "\n",
    "# Initialize and train the logistic regression model\n",
    "logistic_model = LogisticRegression()\n",
    "logistic_model.fit(X_train, y_train)\n"
   ]
  },
  {
   "cell_type": "code",
   "execution_count": 18,
   "id": "d5e25af1-a051-4f0b-b268-5fa90a5d7b00",
   "metadata": {},
   "outputs": [
    {
     "name": "stdout",
     "output_type": "stream",
     "text": [
      "Accuracy: 0.9651383099658962\n",
      "Classification Report:\n",
      "              precision    recall  f1-score   support\n",
      "\n",
      "    negative       0.00      0.00      0.00         3\n",
      "     neutral       0.00      0.00      0.00       181\n",
      "    positive       0.97      1.00      0.98      5094\n",
      "\n",
      "    accuracy                           0.97      5278\n",
      "   macro avg       0.32      0.33      0.33      5278\n",
      "weighted avg       0.93      0.97      0.95      5278\n",
      "\n",
      "              precision    recall  f1-score   support\n",
      "\n",
      "    negative       1.00      0.00      0.00         3\n",
      "     neutral       1.00      0.00      0.00       181\n",
      "    positive       0.97      1.00      0.98      5094\n",
      "\n",
      "    accuracy                           0.97      5278\n",
      "   macro avg       0.99      0.33      0.33      5278\n",
      "weighted avg       0.97      0.97      0.95      5278\n",
      "\n"
     ]
    },
    {
     "name": "stderr",
     "output_type": "stream",
     "text": [
      "C:\\Users\\ReNew\\AppData\\Local\\Programs\\Python\\Python312\\Lib\\site-packages\\sklearn\\metrics\\_classification.py:1471: UndefinedMetricWarning: Precision and F-score are ill-defined and being set to 0.0 in labels with no predicted samples. Use `zero_division` parameter to control this behavior.\n",
      "  _warn_prf(average, modifier, msg_start, len(result))\n",
      "C:\\Users\\ReNew\\AppData\\Local\\Programs\\Python\\Python312\\Lib\\site-packages\\sklearn\\metrics\\_classification.py:1471: UndefinedMetricWarning: Precision and F-score are ill-defined and being set to 0.0 in labels with no predicted samples. Use `zero_division` parameter to control this behavior.\n",
      "  _warn_prf(average, modifier, msg_start, len(result))\n",
      "C:\\Users\\ReNew\\AppData\\Local\\Programs\\Python\\Python312\\Lib\\site-packages\\sklearn\\metrics\\_classification.py:1471: UndefinedMetricWarning: Precision and F-score are ill-defined and being set to 0.0 in labels with no predicted samples. Use `zero_division` parameter to control this behavior.\n",
      "  _warn_prf(average, modifier, msg_start, len(result))\n"
     ]
    }
   ],
   "source": [
    "from sklearn.metrics import accuracy_score, classification_report\n",
    "\n",
    "# Predict the sentiment labels for the testing data\n",
    "y_pred = logistic_model.predict(X_test)\n",
    "\n",
    "# Calculate the accuracy of the model\n",
    "accuracy = accuracy_score(y_test, y_pred)\n",
    "print(\"Accuracy:\", accuracy)\n",
    "\n",
    "# Generate a classification report to view precision, recall, and F1-score\n",
    "print(\"Classification Report:\")\n",
    "print(classification_report(y_test, y_pred))\n"
   ]
  },
  {
   "cell_type": "code",
   "execution_count": 19,
   "id": "fbda78e5-3f95-4864-8096-da44afaa7698",
   "metadata": {},
   "outputs": [
    {
     "name": "stdout",
     "output_type": "stream",
     "text": [
      "Classification Report:\n",
      "              precision    recall  f1-score   support\n",
      "\n",
      "    negative       1.00      0.00      0.00         3\n",
      "     neutral       1.00      0.00      0.00       181\n",
      "    positive       0.97      1.00      0.98      5094\n",
      "\n",
      "    accuracy                           0.97      5278\n",
      "   macro avg       0.99      0.33      0.33      5278\n",
      "weighted avg       0.97      0.97      0.95      5278\n",
      "\n"
     ]
    }
   ],
   "source": [
    "from sklearn.metrics import classification_report\n",
    "\n",
    "# Generate a classification report to view precision, recall, and F1-score\n",
    "print(\"Classification Report:\")\n",
    "print(classification_report(y_test, y_pred, zero_division=1))\n"
   ]
  },
  {
   "cell_type": "code",
   "execution_count": 21,
   "id": "b54445ec-c2a7-47f5-aaaf-eaefa492932d",
   "metadata": {},
   "outputs": [
    {
     "data": {
      "image/png": "[encoded data removed]",
      "text/plain": [
       "<Figure size 800x600 with 1 Axes>"
      ]
     },
     "metadata": {},
     "output_type": "display_data"
    },
    {
     "name": "stdout",
     "output_type": "stream",
     "text": [
      "Class Frequencies:\n",
      "sentiment\n",
      "positive    0.967066\n",
      "neutral     0.032025\n",
      "negative    0.000910\n",
      "Name: count, dtype: float64\n"
     ]
    }
   ],
   "source": [
    "import pandas as pd\n",
    "import matplotlib.pyplot as plt\n",
    "\n",
    "# Assuming 'data' is your DataFrame containing the sentiment labels\n",
    "class_distribution = data['sentiment'].value_counts()\n",
    "\n",
    "# Visualize class distribution\n",
    "plt.figure(figsize=(8, 6))\n",
    "class_distribution.plot(kind='bar', color='skyblue')\n",
    "plt.title('Class Distribution')\n",
    "plt.xlabel('Sentiment')\n",
    "plt.ylabel('Number of Instances')\n",
    "plt.xticks(rotation=45)\n",
    "plt.show()\n",
    "\n",
    "# Calculate class frequencies\n",
    "total_instances = len(data)\n",
    "class_frequencies = class_distribution / total_instances\n",
    "\n",
    "print(\"Class Frequencies:\")\n",
    "print(class_frequencies)\n"
   ]
  },
  {
   "cell_type": "code",
   "execution_count": 24,
   "id": "0fe7a886-1901-43b3-a6d1-33fb287a802c",
   "metadata": {},
   "outputs": [
    {
     "name": "stderr",
     "output_type": "stream",
     "text": [
      "C:\\Users\\ReNew\\AppData\\Local\\Programs\\Python\\Python312\\Lib\\site-packages\\sklearn\\model_selection\\_validation.py:425: FitFailedWarning: \n",
      "30 fits failed out of a total of 60.\n",
      "The score on these train-test partitions for these parameters will be set to nan.\n",
      "If these failures are not expected, you can try to debug them by setting error_score='raise'.\n",
      "\n",
      "Below are more details about the failures:\n",
      "--------------------------------------------------------------------------------\n",
      "30 fits failed with the following error:\n",
      "Traceback (most recent call last):\n",
      "  File \"C:\\Users\\ReNew\\AppData\\Local\\Programs\\Python\\Python312\\Lib\\site-packages\\sklearn\\model_selection\\_validation.py\", line 729, in _fit_and_score\n",
      "    estimator.fit(X_train, y_train, **fit_params)\n",
      "  File \"C:\\Users\\ReNew\\AppData\\Local\\Programs\\Python\\Python312\\Lib\\site-packages\\sklearn\\base.py\", line 1152, in wrapper\n",
      "    return fit_method(estimator, *args, **kwargs)\n",
      "           ^^^^^^^^^^^^^^^^^^^^^^^^^^^^^^^^^^^^^^\n",
      "  File \"C:\\Users\\ReNew\\AppData\\Local\\Programs\\Python\\Python312\\Lib\\site-packages\\sklearn\\linear_model\\_logistic.py\", line 1169, in fit\n",
      "    solver = _check_solver(self.solver, self.penalty, self.dual)\n",
      "             ^^^^^^^^^^^^^^^^^^^^^^^^^^^^^^^^^^^^^^^^^^^^^^^^^^^\n",
      "  File \"C:\\Users\\ReNew\\AppData\\Local\\Programs\\Python\\Python312\\Lib\\site-packages\\sklearn\\linear_model\\_logistic.py\", line 56, in _check_solver\n",
      "    raise ValueError(\n",
      "ValueError: Solver lbfgs supports only 'l2' or 'none' penalties, got l1 penalty.\n",
      "\n",
      "  warnings.warn(some_fits_failed_message, FitFailedWarning)\n",
      "C:\\Users\\ReNew\\AppData\\Local\\Programs\\Python\\Python312\\Lib\\site-packages\\sklearn\\model_selection\\_search.py:979: UserWarning: One or more of the test scores are non-finite: [       nan 0.96754785        nan 0.96754785        nan 0.96754785\n",
      "        nan 0.96745311        nan 0.96584232        nan 0.95920978]\n",
      "  warnings.warn(\n"
     ]
    },
    {
     "name": "stdout",
     "output_type": "stream",
     "text": [
      "Best Hyperparameters: {'C': 0.001, 'penalty': 'l2'}\n"
     ]
    }
   ],
   "source": [
    "from sklearn.model_selection import GridSearchCV\n",
    "from sklearn.linear_model import LogisticRegression\n",
    "param_grid = {\n",
    "    'C': [0.001, 0.01, 0.1, 1, 10, 100],  # Regularization parameter\n",
    "    'penalty': ['l1', 'l2']  # Regularization type\n",
    "}\n",
    "grid_search = GridSearchCV(LogisticRegression(max_iter=1000), param_grid, cv=5, scoring='accuracy', n_jobs=-1)\n",
    "grid_search.fit(X_train, y_train)\n",
    "print(\"Best Hyperparameters:\", grid_search.best_params_)\n"
   ]
  },
  {
   "cell_type": "code",
   "execution_count": 25,
   "id": "b8ec864b-035f-4a25-bee5-3042a5cb3fc7",
   "metadata": {},
   "outputs": [],
   "source": [
    "param_grid = {\n",
    "    'penalty': ['l2', 'none'],  # Update penalty options\n",
    "    'C': [0.001, 0.01, 0.1, 1, 10, 100]  # Keep other hyperparameters as before\n",
    "}\n"
   ]
  },
  {
   "cell_type": "code",
   "execution_count": 26,
   "id": "2e3c0c43-f0a2-46d8-b426-fe8633271a74",
   "metadata": {},
   "outputs": [
    {
     "name": "stdout",
     "output_type": "stream",
     "text": [
      "Best Hyperparameters: {'C': 0.001, 'penalty': 'l2'}\n"
     ]
    }
   ],
   "source": [
    "grid_search = GridSearchCV(LogisticRegression(max_iter=1000), param_grid, cv=5, scoring='accuracy', n_jobs=-1)\n",
    "grid_search.fit(X_train, y_train)\n",
    "print(\"Best Hyperparameters:\", grid_search.best_params_)\n"
   ]
  },
  {
   "cell_type": "code",
   "execution_count": 27,
   "id": "3526701b-6afc-4dfa-8c17-a972d8bd42c4",
   "metadata": {},
   "outputs": [
    {
     "name": "stdout",
     "output_type": "stream",
     "text": [
      "Accuracy: 0.9651383099658962\n",
      "Classification Report:\n",
      "              precision    recall  f1-score   support\n",
      "\n",
      "    negative       0.00      0.00      0.00         3\n",
      "     neutral       0.00      0.00      0.00       181\n",
      "    positive       0.97      1.00      0.98      5094\n",
      "\n",
      "    accuracy                           0.97      5278\n",
      "   macro avg       0.32      0.33      0.33      5278\n",
      "weighted avg       0.93      0.97      0.95      5278\n",
      "\n"
     ]
    },
    {
     "name": "stderr",
     "output_type": "stream",
     "text": [
      "C:\\Users\\ReNew\\AppData\\Local\\Programs\\Python\\Python312\\Lib\\site-packages\\sklearn\\metrics\\_classification.py:1471: UndefinedMetricWarning: Precision and F-score are ill-defined and being set to 0.0 in labels with no predicted samples. Use `zero_division` parameter to control this behavior.\n",
      "  _warn_prf(average, modifier, msg_start, len(result))\n",
      "C:\\Users\\ReNew\\AppData\\Local\\Programs\\Python\\Python312\\Lib\\site-packages\\sklearn\\metrics\\_classification.py:1471: UndefinedMetricWarning: Precision and F-score are ill-defined and being set to 0.0 in labels with no predicted samples. Use `zero_division` parameter to control this behavior.\n",
      "  _warn_prf(average, modifier, msg_start, len(result))\n",
      "C:\\Users\\ReNew\\AppData\\Local\\Programs\\Python\\Python312\\Lib\\site-packages\\sklearn\\metrics\\_classification.py:1471: UndefinedMetricWarning: Precision and F-score are ill-defined and being set to 0.0 in labels with no predicted samples. Use `zero_division` parameter to control this behavior.\n",
      "  _warn_prf(average, modifier, msg_start, len(result))\n"
     ]
    }
   ],
   "source": [
    "from sklearn.metrics import accuracy_score, classification_report\n",
    "\n",
    "# Predict sentiment labels for the testing dataset\n",
    "y_pred = grid_search.predict(X_test)\n",
    "\n",
    "# Calculate accuracy of the model\n",
    "accuracy = accuracy_score(y_test, y_pred)\n",
    "print(\"Accuracy:\", accuracy)\n",
    "\n",
    "# Generate classification report to view precision, recall, and F1-score\n",
    "print(\"Classification Report:\")\n",
    "print(classification_report(y_test, y_pred))\n"
   ]
  },
  {
   "cell_type": "code",
   "execution_count": 28,
   "id": "13e62711-6e77-4883-a828-ac12cb5aafb2",
   "metadata": {},
   "outputs": [
    {
     "name": "stdout",
     "output_type": "stream",
     "text": [
      "Accuracy: 0.9651383099658962\n",
      "Classification Report:\n",
      "              precision    recall  f1-score   support\n",
      "\n",
      "    negative       1.00      0.00      0.00         3\n",
      "     neutral       1.00      0.00      0.00       181\n",
      "    positive       0.97      1.00      0.98      5094\n",
      "\n",
      "    accuracy                           0.97      5278\n",
      "   macro avg       0.99      0.33      0.33      5278\n",
      "weighted avg       0.97      0.97      0.95      5278\n",
      "\n"
     ]
    }
   ],
   "source": [
    "import warnings\n",
    "from sklearn.exceptions import UndefinedMetricWarning\n",
    "\n",
    "# Suppress UndefinedMetricWarning\n",
    "warnings.filterwarnings(\"ignore\", category=UndefinedMetricWarning)\n",
    "\n",
    "# Calculate accuracy of the model\n",
    "accuracy = accuracy_score(y_test, y_pred)\n",
    "print(\"Accuracy:\", accuracy)\n",
    "\n",
    "# Generate classification report to view precision, recall, and F1-score\n",
    "print(\"Classification Report:\")\n",
    "print(classification_report(y_test, y_pred, zero_division=1))\n"
   ]
  },
  {
   "cell_type": "code",
   "execution_count": 29,
   "id": "11005f2f-3d06-48c8-8354-e57141610fff",
   "metadata": {},
   "outputs": [
    {
     "name": "stdout",
     "output_type": "stream",
     "text": [
      "Classification Report:\n",
      "              precision    recall  f1-score   support\n",
      "\n",
      "    negative       0.00      0.00      0.00         3\n",
      "     neutral       0.00      0.00      0.00       181\n",
      "    positive       0.97      1.00      0.98      5094\n",
      "\n",
      "    accuracy                           0.97      5278\n",
      "   macro avg       0.32      0.33      0.33      5278\n",
      "weighted avg       0.93      0.97      0.95      5278\n",
      "\n",
      "Confusion Matrix:\n",
      "[[   0    0    3]\n",
      " [   0    0  181]\n",
      " [   0    0 5094]]\n"
     ]
    }
   ],
   "source": [
    "from sklearn.metrics import classification_report, confusion_matrix\n",
    "\n",
    "# Generate classification report\n",
    "print(\"Classification Report:\")\n",
    "print(classification_report(y_test, y_pred))\n",
    "\n",
    "# Generate confusion matrix\n",
    "conf_matrix = confusion_matrix(y_test, y_pred)\n",
    "print(\"Confusion Matrix:\")\n",
    "print(conf_matrix)\n"
   ]
  },
  {
   "cell_type": "code",
   "execution_count": 34,
   "id": "67d1c406-2319-4be3-8b0b-a9988af88635",
   "metadata": {},
   "outputs": [],
   "source": [
    "# Import the necessary module\n",
    "from imblearn.over_sampling import SMOTE\n",
    "\n",
    "# Apply SMOTE to balance the classes in your training data\n",
    "smote = SMOTE()\n",
    "X_train_resampled, y_train_resampled = smote.fit_resample(X_train, y_train)\n",
    "\n"
   ]
  },
  {
   "cell_type": "code",
   "execution_count": 35,
   "id": "6570f6fd-0dd1-4759-b4ee-2cd735bc248c",
   "metadata": {},
   "outputs": [
    {
     "data": {
      "text/html": [
       "<style>#sk-container-id-2 {color: black;}#sk-container-id-2 pre{padding: 0;}#sk-container-id-2 div.sk-toggleable {background-color: white;}#sk-container-id-2 label.sk-toggleable__label {cursor: pointer;display: block;width: 100%;margin-bottom: 0;padding: 0.3em;box-sizing: border-box;text-align: center;}#sk-container-id-2 label.sk-toggleable__label-arrow:before {content: \"▸\";float: left;margin-right: 0.25em;color: #696969;}#sk-container-id-2 label.sk-toggleable__label-arrow:hover:before {color: black;}#sk-container-id-2 div.sk-estimator:hover label.sk-toggleable__label-arrow:before {color: black;}#sk-container-id-2 div.sk-toggleable__content {max-height: 0;max-width: 0;overflow: hidden;text-align: left;background-color: #f0f8ff;}#sk-container-id-2 div.sk-toggleable__content pre {margin: 0.2em;color: black;border-radius: 0.25em;background-color: #f0f8ff;}#sk-container-id-2 input.sk-toggleable__control:checked~div.sk-toggleable__content {max-height: 200px;max-width: 100%;overflow: auto;}#sk-container-id-2 input.sk-toggleable__control:checked~label.sk-toggleable__label-arrow:before {content: \"▾\";}#sk-container-id-2 div.sk-estimator input.sk-toggleable__control:checked~label.sk-toggleable__label {background-color: #d4ebff;}#sk-container-id-2 div.sk-label input.sk-toggleable__control:checked~label.sk-toggleable__label {background-color: #d4ebff;}#sk-container-id-2 input.sk-hidden--visually {border: 0;clip: rect(1px 1px 1px 1px);clip: rect(1px, 1px, 1px, 1px);height: 1px;margin: -1px;overflow: hidden;padding: 0;position: absolute;width: 1px;}#sk-container-id-2 div.sk-estimator {font-family: monospace;background-color: #f0f8ff;border: 1px dotted black;border-radius: 0.25em;box-sizing: border-box;margin-bottom: 0.5em;}#sk-container-id-2 div.sk-estimator:hover {background-color: #d4ebff;}#sk-container-id-2 div.sk-parallel-item::after {content: \"\";width: 100%;border-bottom: 1px solid gray;flex-grow: 1;}#sk-container-id-2 div.sk-label:hover label.sk-toggleable__label {background-color: #d4ebff;}#sk-container-id-2 div.sk-serial::before {content: \"\";position: absolute;border-left: 1px solid gray;box-sizing: border-box;top: 0;bottom: 0;left: 50%;z-index: 0;}#sk-container-id-2 div.sk-serial {display: flex;flex-direction: column;align-items: center;background-color: white;padding-right: 0.2em;padding-left: 0.2em;position: relative;}#sk-container-id-2 div.sk-item {position: relative;z-index: 1;}#sk-container-id-2 div.sk-parallel {display: flex;align-items: stretch;justify-content: center;background-color: white;position: relative;}#sk-container-id-2 div.sk-item::before, #sk-container-id-2 div.sk-parallel-item::before {content: \"\";position: absolute;border-left: 1px solid gray;box-sizing: border-box;top: 0;bottom: 0;left: 50%;z-index: -1;}#sk-container-id-2 div.sk-parallel-item {display: flex;flex-direction: column;z-index: 1;position: relative;background-color: white;}#sk-container-id-2 div.sk-parallel-item:first-child::after {align-self: flex-end;width: 50%;}#sk-container-id-2 div.sk-parallel-item:last-child::after {align-self: flex-start;width: 50%;}#sk-container-id-2 div.sk-parallel-item:only-child::after {width: 0;}#sk-container-id-2 div.sk-dashed-wrapped {border: 1px dashed gray;margin: 0 0.4em 0.5em 0.4em;box-sizing: border-box;padding-bottom: 0.4em;background-color: white;}#sk-container-id-2 div.sk-label label {font-family: monospace;font-weight: bold;display: inline-block;line-height: 1.2em;}#sk-container-id-2 div.sk-label-container {text-align: center;}#sk-container-id-2 div.sk-container {/* jupyter's `normalize.less` sets `[hidden] { display: none; }` but bootstrap.min.css set `[hidden] { display: none !important; }` so we also need the `!important` here to be able to override the default hidden behavior on the sphinx rendered scikit-learn.org. See: https://github.com/scikit-learn/scikit-learn/issues/21755 */display: inline-block !important;position: relative;}#sk-container-id-2 div.sk-text-repr-fallback {display: none;}</style><div id=\"sk-container-id-2\" class=\"sk-top-container\"><div class=\"sk-text-repr-fallback\"><pre>RandomForestClassifier()</pre><b>In a Jupyter environment, please rerun this cell to show the HTML representation or trust the notebook. <br />On GitHub, the HTML representation is unable to render, please try loading this page with nbviewer.org.</b></div><div class=\"sk-container\" hidden><div class=\"sk-item\"><div class=\"sk-estimator sk-toggleable\"><input class=\"sk-toggleable__control sk-hidden--visually\" id=\"sk-estimator-id-2\" type=\"checkbox\" checked><label for=\"sk-estimator-id-2\" class=\"sk-toggleable__label sk-toggleable__label-arrow\">RandomForestClassifier</label><div class=\"sk-toggleable__content\"><pre>RandomForestClassifier()</pre></div></div></div></div></div>"
      ],
      "text/plain": [
       "RandomForestClassifier()"
      ]
     },
     "execution_count": 35,
     "metadata": {},
     "output_type": "execute_result"
    }
   ],
   "source": [
    "from sklearn.ensemble import RandomForestClassifier\n",
    "# Initialize the Random Forest classifier\n",
    "rf_classifier = RandomForestClassifier()\n",
    "\n",
    "# Fit the Random Forest classifier on the resampled training data\n",
    "rf_classifier.fit(X_train_resampled, y_train_resampled)\n"
   ]
  },
  {
   "cell_type": "code",
   "execution_count": 36,
   "id": "6dfbdfbf-ac51-4604-9dc0-099aa12c6122",
   "metadata": {},
   "outputs": [
    {
     "name": "stdout",
     "output_type": "stream",
     "text": [
      "Random Forest Classification Report:\n",
      "              precision    recall  f1-score   support\n",
      "\n",
      "    negative       0.00      0.33      0.00         3\n",
      "     neutral       0.07      0.01      0.01       181\n",
      "    positive       0.96      0.70      0.81      5094\n",
      "\n",
      "    accuracy                           0.68      5278\n",
      "   macro avg       0.35      0.35      0.27      5278\n",
      "weighted avg       0.93      0.68      0.78      5278\n",
      "\n",
      "Random Forest Confusion Matrix:\n",
      "[[   1    0    2]\n",
      " [  47    1  133]\n",
      " [1510   13 3571]]\n"
     ]
    }
   ],
   "source": [
    "from sklearn.metrics import classification_report, confusion_matrix\n",
    "\n",
    "# Predict the sentiment labels for the testing data\n",
    "y_pred_rf = rf_classifier.predict(X_test)\n",
    "\n",
    "# Generate classification report\n",
    "print(\"Random Forest Classification Report:\")\n",
    "print(classification_report(y_test, y_pred_rf))\n",
    "\n",
    "# Generate confusion matrix\n",
    "conf_matrix_rf = confusion_matrix(y_test, y_pred_rf)\n",
    "print(\"Random Forest Confusion Matrix:\")\n",
    "print(conf_matrix_rf)\n"
   ]
  },
  {
   "cell_type": "code",
   "execution_count": 38,
   "id": "40e7fecb-795a-496d-9968-d6203ecf3504",
   "metadata": {},
   "outputs": [
    {
     "data": {
      "text/plain": [
       "['random_forest_model.joblib']"
      ]
     },
     "execution_count": 38,
     "metadata": {},
     "output_type": "execute_result"
    }
   ],
   "source": [
    "from joblib import dump\n",
    "\n",
    "# Save the trained Random Forest model to a file\n",
    "dump(rf_classifier, 'random_forest_model.joblib')\n"
   ]
  },
  {
   "cell_type": "code",
   "execution_count": 40,
   "id": "790a06f2-ba60-47ee-9821-3e3bcafc1446",
   "metadata": {},
   "outputs": [
    {
     "data": {
      "text/plain": [
       "['random_forest_model.joblib']"
      ]
     },
     "execution_count": 40,
     "metadata": {},
     "output_type": "execute_result"
    }
   ],
   "source": [
    "from joblib import dump\n",
    "\n",
    "# Save the model to a file\n",
    "dump(rf_classifier, 'random_forest_model.joblib')\n"
   ]
  },
  {
   "cell_type": "code",
   "execution_count": 42,
   "id": "1753b370-fd6e-4d6b-818b-c603c1c7fa69",
   "metadata": {},
   "outputs": [
    {
     "name": "stderr",
     "output_type": "stream",
     "text": [
      "[nltk_data] Downloading package punkt to\n",
      "[nltk_data]     C:\\Users\\ReNew\\AppData\\Roaming\\nltk_data...\n",
      "[nltk_data]   Package punkt is already up-to-date!\n",
      "[nltk_data] Downloading package wordnet to\n",
      "[nltk_data]     C:\\Users\\ReNew\\AppData\\Roaming\\nltk_data...\n",
      "[nltk_data] Downloading package stopwords to\n",
      "[nltk_data]     C:\\Users\\ReNew\\AppData\\Roaming\\nltk_data...\n",
      "[nltk_data]   Package stopwords is already up-to-date!\n"
     ]
    }
   ],
   "source": [
    "import re\n",
    "from nltk.corpus import stopwords\n",
    "from nltk.tokenize import word_tokenize\n",
    "from nltk.stem import WordNetLemmatizer\n",
    "\n",
    "# Download NLTK resources (if not already downloaded)\n",
    "import nltk\n",
    "nltk.download('punkt')\n",
    "nltk.download('wordnet')\n",
    "nltk.download('stopwords')\n",
    "\n",
    "def preprocess(text):\n",
    "    # Convert text to lowercase\n",
    "    text = text.lower()\n",
    "    \n",
    "    # Remove punctuation and special characters\n",
    "    text = re.sub(r\"[^a-zA-Z0-9]\", \" \", text)\n",
    "    \n",
    "    # Tokenize text\n",
    "    words = word_tokenize(text)\n",
    "    \n",
    "    # Remove stopwords\n",
    "    words = [word for word in words if word not in stopwords.words(\"english\")]\n",
    "    \n",
    "    # Lemmatize words\n",
    "    lemmatizer = WordNetLemmatizer()\n",
    "    words = [lemmatizer.lemmatize(word) for word in words]\n",
    "    \n",
    "    # Join words back into text\n",
    "    processed_text = \" \".join(words)\n",
    "    \n",
    "    return processed_text\n",
    "\n"
   ]
  },
  {
   "cell_type": "code",
   "execution_count": 1,
   "id": "28ce57e9-c278-4c7c-8851-6e8a17353a03",
   "metadata": {},
   "outputs": [
    {
     "name": "stdin",
     "output_type": "stream",
     "text": [
      "Enter your review:  very bad\n"
     ]
    },
    {
     "ename": "NameError",
     "evalue": "name 'tfidf_vectorizer' is not defined",
     "output_type": "error",
     "traceback": [
      "\u001b[1;31m---------------------------------------------------------------------------\u001b[0m",
      "\u001b[1;31mNameError\u001b[0m                                 Traceback (most recent call last)",
      "Cell \u001b[1;32mIn[1], line 46\u001b[0m\n\u001b[0;32m     43\u001b[0m review \u001b[38;5;241m=\u001b[39m \u001b[38;5;28minput\u001b[39m(\u001b[38;5;124m\"\u001b[39m\u001b[38;5;124mEnter your review: \u001b[39m\u001b[38;5;124m\"\u001b[39m)\n\u001b[0;32m     45\u001b[0m \u001b[38;5;66;03m# Predict sentiment\u001b[39;00m\n\u001b[1;32m---> 46\u001b[0m sentiment \u001b[38;5;241m=\u001b[39m \u001b[43mpredict_sentiment\u001b[49m\u001b[43m(\u001b[49m\u001b[43mreview\u001b[49m\u001b[43m)\u001b[49m\n\u001b[0;32m     47\u001b[0m \u001b[38;5;28mprint\u001b[39m(\u001b[38;5;124m\"\u001b[39m\u001b[38;5;124mPredicted sentiment:\u001b[39m\u001b[38;5;124m\"\u001b[39m, sentiment)\n",
      "Cell \u001b[1;32mIn[1], line 35\u001b[0m, in \u001b[0;36mpredict_sentiment\u001b[1;34m(review)\u001b[0m\n\u001b[0;32m     32\u001b[0m processed_review \u001b[38;5;241m=\u001b[39m preprocess(review)\n\u001b[0;32m     34\u001b[0m \u001b[38;5;66;03m# Vectorize the processed review\u001b[39;00m\n\u001b[1;32m---> 35\u001b[0m tfidf_features \u001b[38;5;241m=\u001b[39m \u001b[43mtfidf_vectorizer\u001b[49m\u001b[38;5;241m.\u001b[39mtransform([processed_review])\n\u001b[0;32m     37\u001b[0m \u001b[38;5;66;03m# Predict sentiment using the trained model\u001b[39;00m\n\u001b[0;32m     38\u001b[0m sentiment \u001b[38;5;241m=\u001b[39m logistic_model\u001b[38;5;241m.\u001b[39mpredict(tfidf_features)[\u001b[38;5;241m0\u001b[39m]\n",
      "\u001b[1;31mNameError\u001b[0m: name 'tfidf_vectorizer' is not defined"
     ]
    }
   ],
   "source": [
    "import re\n",
    "from nltk.corpus import stopwords\n",
    "from nltk.tokenize import word_tokenize\n",
    "from nltk.stem import WordNetLemmatizer\n",
    "\n",
    "# Define the preprocess function\n",
    "def preprocess(text):\n",
    "    # Convert text to lowercase\n",
    "    text = text.lower()\n",
    "    \n",
    "    # Remove punctuation and special characters\n",
    "    text = re.sub(r\"[^a-zA-Z0-9]\", \" \", text)\n",
    "    \n",
    "    # Tokenize text\n",
    "    words = word_tokenize(text)\n",
    "    \n",
    "    # Remove stopwords\n",
    "    words = [word for word in words if word not in stopwords.words(\"english\")]\n",
    "    \n",
    "    # Lemmatize words\n",
    "    lemmatizer = WordNetLemmatizer()\n",
    "    words = [lemmatizer.lemmatize(word) for word in words]\n",
    "    \n",
    "    # Join words back into text\n",
    "    processed_text = \" \".join(words)\n",
    "    \n",
    "    return processed_text\n",
    "\n",
    "# Function to predict sentiment\n",
    "def predict_sentiment(review):\n",
    "    # Preprocess the input review\n",
    "    processed_review = preprocess(review)\n",
    "    \n",
    "    # Vectorize the processed review\n",
    "    tfidf_features = tfidf_vectorizer.transform([processed_review])\n",
    "    \n",
    "    # Predict sentiment using the trained model\n",
    "    sentiment = logistic_model.predict(tfidf_features)[0]\n",
    "    \n",
    "    return sentiment\n",
    "\n",
    "# Input review from user\n",
    "review = input(\"Enter your review: \")\n",
    "\n",
    "# Predict sentiment\n",
    "sentiment = predict_sentiment(review)\n",
    "print(\"Predicted sentiment:\", sentiment)\n"
   ]
  },
  {
   "cell_type": "code",
   "execution_count": null,
   "id": "582b45c4-a4d2-41d3-904a-35beea883137",
   "metadata": {},
   "outputs": [],
   "source": []
  }
 ],
 "metadata": {
  "kernelspec": {
   "display_name": "Python 3 (ipykernel)",
   "language": "python",
   "name": "python3"
  },
  "language_info": {
   "codemirror_mode": {
    "name": "ipython",
    "version": 3
   },
   "file_extension": ".py",
   "mimetype": "text/x-python",
   "name": "python",
   "nbconvert_exporter": "python",
   "pygments_lexer": "ipython3",
   "version": "3.12.2"
  }
 },
 "nbformat": 4,
 "nbformat_minor": 5
}
